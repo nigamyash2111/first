{
 "cells": [
  {
   "cell_type": "markdown",
   "id": "548b6c89-ba5a-446e-b9e1-5714ad240e5c",
   "metadata": {},
   "source": [
    "1): Declare two variables, `x` and `y`, and assign them integer values. Swap the\n",
    "values of these variables without using any temporary variable.\n",
    "\n"
   ]
  },
  {
   "cell_type": "code",
   "execution_count": 2,
   "id": "238aaedb-977d-4214-aff6-2c85a2300a21",
   "metadata": {},
   "outputs": [
    {
     "name": "stdout",
     "output_type": "stream",
     "text": [
      "Before swapping a:4, b:6\n",
      "After swapping a:6, b:4\n"
     ]
    }
   ],
   "source": [
    "a = 4\n",
    "b= 6\n",
    "print (f\"Before swapping a:{a}, b:{b}\")\n",
    "       \n",
    "a,b = b, a\n",
    "print (f\"After swapping a:{a}, b:{b}\")   "
   ]
  },
  {
   "cell_type": "markdown",
   "id": "91112a17-a469-4025-87df-57f5c92f0bbc",
   "metadata": {},
   "source": [
    "2): Create a program that calculates the area of a rectangle. Take the length and\n",
    "width as inputs from the user and store them in variables. Calculate and\n",
    "display the area."
   ]
  },
  {
   "cell_type": "code",
   "execution_count": 7,
   "id": "1f07dba9-18e3-4d94-b3e9-d2807ef7ebd4",
   "metadata": {
    "tags": []
   },
   "outputs": [
    {
     "name": "stdin",
     "output_type": "stream",
     "text": [
      "Length of rectangle in cm:  6.753\n",
      "Width of rectangle in cm:  7.895\n"
     ]
    },
    {
     "name": "stdout",
     "output_type": "stream",
     "text": [
      "Area of rectangle : 53.314935 cm²\n"
     ]
    }
   ],
   "source": [
    "a = float(input(\"Length of rectangle in cm: \"))\n",
    "b = float(input(\"Width of rectangle in cm: \"))\n",
    "\n",
    "c = a*b\n",
    "\n",
    "print (f\"Area of rectangle : {c} cm\\u00b2\")"
   ]
  },
  {
   "cell_type": "markdown",
   "id": "8fcf56b3-02cf-45a9-9a4d-a911afd80b88",
   "metadata": {},
   "source": [
    "3): Write a Python program that converts temperatures from Celsius to\n",
    "Fahrenheit. Take the temperature in Celsius as input, store it in a variable,\n",
    "convert it to Fahrenheit, and display the result."
   ]
  },
  {
   "cell_type": "code",
   "execution_count": 11,
   "id": "5fb9c29f-49c5-40b4-ad94-e3dbf5dfa180",
   "metadata": {},
   "outputs": [
    {
     "name": "stdin",
     "output_type": "stream",
     "text": [
      "Temp. in celsius :  56.7\n"
     ]
    },
    {
     "name": "stdout",
     "output_type": "stream",
     "text": [
      "Temp. in Farenheit: 134.06\n"
     ]
    }
   ],
   "source": [
    " a = float(input(\"Temp. in celsius : \"))\n",
    " \n",
    " b= a * (9/5) + 32          \n",
    "           \n",
    "print (f\"Temp. in Farenheit: {b}\")          "
   ]
  },
  {
   "cell_type": "markdown",
   "id": "8e66c29d-125e-4fb1-a87c-fa745d5c9794",
   "metadata": {},
   "source": [
    "String Based Questions"
   ]
  },
  {
   "cell_type": "markdown",
   "id": "dfbf6297-9878-4582-83a3-58339664df11",
   "metadata": {},
   "source": [
    "1): Write a Python program that takes a string as input and prints the length of\n",
    "the string."
   ]
  },
  {
   "cell_type": "code",
   "execution_count": 13,
   "id": "ce7075fc-da6b-4caa-91aa-3be5ea8ae4b3",
   "metadata": {},
   "outputs": [
    {
     "name": "stdin",
     "output_type": "stream",
     "text": [
      "Enter any string: gbfgbghrts\n"
     ]
    },
    {
     "name": "stdout",
     "output_type": "stream",
     "text": [
      "No. of char. in string: 10\n"
     ]
    }
   ],
   "source": [
    "a = str(input(\"Enter any string:\"))\n",
    "b = len(a)\n",
    "print (f\"No. of char. in string: {b}\")"
   ]
  },
  {
   "cell_type": "markdown",
   "id": "327fb81e-166e-4cc8-9893-e3cf9967fc6b",
   "metadata": {},
   "source": [
    "2): Create a program that takes a sentence from the user and counts the number\n",
    "of vowels (a, e, i, o, u) in the string."
   ]
  },
  {
   "cell_type": "code",
   "execution_count": 24,
   "id": "6f9ac670-dce3-4a6f-966c-d1b2a5fe9908",
   "metadata": {},
   "outputs": [
    {
     "name": "stdin",
     "output_type": "stream",
     "text": [
      "Enter a asentence yxcutdxcjhugctfxchjgkrxez\n"
     ]
    },
    {
     "name": "stdout",
     "output_type": "stream",
     "text": [
      "No. of Vowels :3\n"
     ]
    }
   ],
   "source": [
    "a = input(\"Enter a asentence\")\n",
    "b= 0\n",
    "for char in a:\n",
    "   char_lower = char.lower()\n",
    "   if char_lower in \"aeiou\":\n",
    "       b += 1\n",
    "print (f\"No. of Vowels :{b}\")        "
   ]
  },
  {
   "cell_type": "markdown",
   "id": "f5e8bc12-3c5d-4178-b252-9283de44b73d",
   "metadata": {},
   "source": []
  },
  {
   "cell_type": "markdown",
   "id": "09311446-b1c8-47a7-a4b7-e13e32056cc3",
   "metadata": {},
   "source": [
    "3): Given a string, reverse the order of characters using string slicing and print\n",
    "the reversed string."
   ]
  },
  {
   "cell_type": "code",
   "execution_count": 27,
   "id": "9a914d18-4dc5-4db8-b077-5b3341d1a704",
   "metadata": {},
   "outputs": [
    {
     "name": "stdin",
     "output_type": "stream",
     "text": [
      "Enter a string Yash\n"
     ]
    },
    {
     "name": "stdout",
     "output_type": "stream",
     "text": [
      " reverse of string: hsaY\n"
     ]
    }
   ],
   "source": [
    "a = input(\"Enter a string\")\n",
    "b = a[::-1]\n",
    "print (f\" reverse of string: {b}\")"
   ]
  },
  {
   "cell_type": "markdown",
   "id": "bb05dc43-50a9-46d8-a37b-c08e55a76db8",
   "metadata": {},
   "source": [
    "4): Write a program that takes a string as input and checks if it is a palindrome"
   ]
  },
  {
   "cell_type": "code",
   "execution_count": 44,
   "id": "28b1666d-9986-4358-aba1-bce58f997eb8",
   "metadata": {},
   "outputs": [
    {
     "name": "stdin",
     "output_type": "stream",
     "text": [
      "Enter a string to check if it is a palidrome:  Yashhsay\n"
     ]
    },
    {
     "name": "stdout",
     "output_type": "stream",
     "text": [
      "This is palindrome\n"
     ]
    }
   ],
   "source": [
    "String = input( \"Enter a string to check if it is a palidrome: \")\n",
    "Clean_string = String.replace(\" \", \"\").lower()\n",
    "\n",
    "reverse_string = Clean_string[::-1]\n",
    "\n",
    "if reverse_string == Clean_string:\n",
    " print (\"This is palindrome\")\n",
    "else:\n",
    " print (\"This is not a palindrome\")"
   ]
  },
  {
   "cell_type": "markdown",
   "id": "a8fad8fa-f078-4205-9b84-385b5b6ae1ba",
   "metadata": {},
   "source": [
    "5): Create a program that takes a string as input and removes all the spaces from\n",
    "it. Print the modified string without spaces."
   ]
  },
  {
   "cell_type": "code",
   "execution_count": 43,
   "id": "b808fd17-1799-4c97-b3ef-9a478eec7196",
   "metadata": {},
   "outputs": [
    {
     "name": "stdin",
     "output_type": "stream",
     "text": [
      "Enter a string:  udtdxcjghc ghcyfyu vcufu\n"
     ]
    },
    {
     "name": "stdout",
     "output_type": "stream",
     "text": [
      "Modified string without spaces: udtdxcjghcghcyfyuvcufu\n"
     ]
    }
   ],
   "source": [
    "#Solution 1\n",
    "\n",
    "input_string = input(\"Enter a string: \")\n",
    "modified_string = \"\"\n",
    "\n",
    "for char in input_string:\n",
    "    if char != \" \":\n",
    "        modified_string += char\n",
    "print(\"Modified string without spaces:\", modified_string)"
   ]
  },
  {
   "cell_type": "code",
   "execution_count": 42,
   "id": "06d42ef0-fefa-4665-8944-6e39eb742243",
   "metadata": {},
   "outputs": [
    {
     "name": "stdin",
     "output_type": "stream",
     "text": [
      "Enter a string vxghhh hyucv jhuvytc\n"
     ]
    },
    {
     "name": "stdout",
     "output_type": "stream",
     "text": [
      "vxghhhhyucvjhuvytc\n"
     ]
    }
   ],
   "source": [
    "#Solution 2\n",
    "\n",
    "input_string = input(\"Enter a string\")\n",
    "clean_string = input_string.replace(\" \", \"\")\n",
    "print (clean_string)"
   ]
  },
  {
   "cell_type": "code",
   "execution_count": null,
   "id": "b92328dd-0bc1-4652-9f9c-c143eaef117e",
   "metadata": {},
   "outputs": [],
   "source": []
  }
 ],
 "metadata": {
  "kernelspec": {
   "display_name": "Python 3 (ipykernel)",
   "language": "python",
   "name": "python3"
  },
  "language_info": {
   "codemirror_mode": {
    "name": "ipython",
    "version": 3
   },
   "file_extension": ".py",
   "mimetype": "text/x-python",
   "name": "python",
   "nbconvert_exporter": "python",
   "pygments_lexer": "ipython3",
   "version": "3.10.8"
  }
 },
 "nbformat": 4,
 "nbformat_minor": 5
}
